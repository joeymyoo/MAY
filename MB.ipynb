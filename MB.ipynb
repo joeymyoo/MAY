{
 "cells": [
  {
   "cell_type": "markdown",
   "metadata": {
    "slideshow": {
     "slide_type": "slide"
    }
   },
   "source": [
    "# The 2020 Democrats Presidential Candidates\n"
   ]
  },
  {
   "cell_type": "markdown",
   "metadata": {
    "slideshow": {
     "slide_type": "subslide"
    }
   },
   "source": [
    "#Sentiment Analysis: Positive, Negative and Neutral\n",
    "#Random Forest:\n",
    "\"To say it in simple words: Random forest builds multiple decision trees and merges them together to get a more accurate and stable prediction. One big advantage of random forest is, that it\"\n",
    "https://towardsdatascience.com/the-random-forest-algorithm-d457d499ffcd"
   ]
  },
  {
   "cell_type": "code",
   "execution_count": 3,
   "metadata": {
    "slideshow": {
     "slide_type": "subslide"
    }
   },
   "outputs": [],
   "source": [
    "import pandas as pd # To hande data\n",
    "import numpy as np # To compute numbers\n",
    "from sklearn.metrics import classification_report, confusion_matrix, accuracy_score, \\\n",
    "precision_score, recall_score\n",
    "import tweepy # To consume Twitter's api\n",
    "from textblob import TextBlob\n",
    "import re\n",
    "# plotting and  visualizaion\n",
    "from IPython.display import display\n",
    "import matplotlib.pyplot as plt\n",
    "import seaborn as sns\n",
    "%matplotlib inline"
   ]
  },
  {
   "cell_type": "markdown",
   "metadata": {
    "slideshow": {
     "slide_type": "slide"
    }
   },
   "source": [
    "# 1. Getting data using a scrapper provided"
   ]
  },
  {
   "cell_type": "markdown",
   "metadata": {
    "slideshow": {
     "slide_type": "subslide"
    }
   },
   "source": [
    "by http://www.trumptwitterarchive.com  or https://github.com/bpb27/twitter_scraping"
   ]
  },
  {
   "cell_type": "code",
   "execution_count": 5,
   "metadata": {
    "slideshow": {
     "slide_type": "subslide"
    }
   },
   "outputs": [],
   "source": [
    "# Through Selenium Python API you can access all functionalities of Selenium WebDriver in an intuitive way.\n",
    "from selenium import webdriver\n",
    "from selenium.webdriver.common.keys import Keys\n",
    "from selenium.common.exceptions import NoSuchElementException, StaleElementReferenceException\n",
    "from time import sleep\n",
    "import json\n",
    "import datetime\n"
   ]
  },
  {
   "cell_type": "code",
   "execution_count": 7,
   "metadata": {
    "slideshow": {
     "slide_type": "subslide"
    }
   },
   "outputs": [],
   "source": [
    "user = 'MichaelBennet'\n",
    "start = datetime.datetime(2019, 4, 20)\n",
    "end = datetime.datetime(2019, 5, 7)"
   ]
  },
  {
   "cell_type": "code",
   "execution_count": 11,
   "metadata": {
    "slideshow": {
     "slide_type": "subslide"
    }
   },
   "outputs": [],
   "source": [
    "#Run Chrome Driver\n",
    "delay = 1  # time to wait on each page load before reading the page\n",
    "driver = webdriver.Chrome(r'C:\\Users\\YooSarina\\Desktop\\Project\\chromedriver.exe')"
   ]
  },
  {
   "cell_type": "code",
   "execution_count": 12,
   "metadata": {
    "slideshow": {
     "slide_type": "subslide"
    }
   },
   "outputs": [
    {
     "name": "stdout",
     "output_type": "stream",
     "text": [
      "https://twitter.com/search?f=tweets&vertical=default&q=from%3Amichaelbennet%20since%3A2019-04-20%20until%3A2019-04-21include%3Aretweets&src=typd\n",
      "2019-04-20\n",
      "0 tweets found, 0 total\n",
      "https://twitter.com/search?f=tweets&vertical=default&q=from%3Amichaelbennet%20since%3A2019-04-21%20until%3A2019-04-22include%3Aretweets&src=typd\n",
      "2019-04-21\n",
      "0 tweets found, 0 total\n",
      "https://twitter.com/search?f=tweets&vertical=default&q=from%3Amichaelbennet%20since%3A2019-04-22%20until%3A2019-04-23include%3Aretweets&src=typd\n",
      "2019-04-22\n",
      "2 tweets found, 0 total\n",
      "https://twitter.com/search?f=tweets&vertical=default&q=from%3Amichaelbennet%20since%3A2019-04-23%20until%3A2019-04-24include%3Aretweets&src=typd\n",
      "2019-04-23\n",
      "3 tweets found, 2 total\n",
      "https://twitter.com/search?f=tweets&vertical=default&q=from%3Amichaelbennet%20since%3A2019-04-24%20until%3A2019-04-25include%3Aretweets&src=typd\n",
      "2019-04-24\n",
      "2 tweets found, 5 total\n",
      "https://twitter.com/search?f=tweets&vertical=default&q=from%3Amichaelbennet%20since%3A2019-04-25%20until%3A2019-04-26include%3Aretweets&src=typd\n",
      "2019-04-25\n",
      "2 tweets found, 7 total\n",
      "https://twitter.com/search?f=tweets&vertical=default&q=from%3Amichaelbennet%20since%3A2019-04-26%20until%3A2019-04-27include%3Aretweets&src=typd\n",
      "2019-04-26\n",
      "1 tweets found, 9 total\n",
      "https://twitter.com/search?f=tweets&vertical=default&q=from%3Amichaelbennet%20since%3A2019-04-27%20until%3A2019-04-28include%3Aretweets&src=typd\n",
      "2019-04-27\n",
      "1 tweets found, 10 total\n",
      "https://twitter.com/search?f=tweets&vertical=default&q=from%3Amichaelbennet%20since%3A2019-04-28%20until%3A2019-04-29include%3Aretweets&src=typd\n",
      "2019-04-28\n",
      "1 tweets found, 11 total\n",
      "https://twitter.com/search?f=tweets&vertical=default&q=from%3Amichaelbennet%20since%3A2019-04-29%20until%3A2019-04-30include%3Aretweets&src=typd\n",
      "2019-04-29\n",
      "0 tweets found, 12 total\n",
      "https://twitter.com/search?f=tweets&vertical=default&q=from%3Amichaelbennet%20since%3A2019-04-30%20until%3A2019-05-01include%3Aretweets&src=typd\n",
      "2019-04-30\n",
      "2 tweets found, 12 total\n",
      "https://twitter.com/search?f=tweets&vertical=default&q=from%3Amichaelbennet%20since%3A2019-05-01%20until%3A2019-05-02include%3Aretweets&src=typd\n",
      "2019-05-01\n",
      "3 tweets found, 14 total\n",
      "https://twitter.com/search?f=tweets&vertical=default&q=from%3Amichaelbennet%20since%3A2019-05-02%20until%3A2019-05-03include%3Aretweets&src=typd\n",
      "2019-05-02\n",
      "scrolling down to load more tweets\n",
      "10 tweets found, 17 total\n",
      "https://twitter.com/search?f=tweets&vertical=default&q=from%3Amichaelbennet%20since%3A2019-05-03%20until%3A2019-05-04include%3Aretweets&src=typd\n",
      "2019-05-03\n",
      "8 tweets found, 27 total\n",
      "https://twitter.com/search?f=tweets&vertical=default&q=from%3Amichaelbennet%20since%3A2019-05-04%20until%3A2019-05-05include%3Aretweets&src=typd\n",
      "2019-05-04\n",
      "5 tweets found, 35 total\n",
      "https://twitter.com/search?f=tweets&vertical=default&q=from%3Amichaelbennet%20since%3A2019-05-05%20until%3A2019-05-06include%3Aretweets&src=typd\n",
      "2019-05-05\n",
      "7 tweets found, 40 total\n",
      "https://twitter.com/search?f=tweets&vertical=default&q=from%3Amichaelbennet%20since%3A2019-05-06%20until%3A2019-05-07include%3Aretweets&src=typd\n",
      "2019-05-06\n",
      "6 tweets found, 47 total\n",
      "https://twitter.com/search?f=tweets&vertical=default&q=from%3Amichaelbennet%20since%3A2019-05-07%20until%3A2019-05-08include%3Aretweets&src=typd\n",
      "2019-05-07\n",
      "2 tweets found, 53 total\n",
      "tweets found on this scrape:  55\n",
      "total tweet count:  55\n",
      "all done here\n"
     ]
    }
   ],
   "source": [
    "# Get data from twitter\n",
    "twitter_ids_filename = 'all_ids.json'\n",
    "days = (end - start).days + 1\n",
    "id_selector = '.time a.tweet-timestamp'\n",
    "tweet_selector = 'li.js-stream-item'\n",
    "user = user.lower()\n",
    "ids = []\n",
    "\n",
    "def format_day(date):\n",
    "    day = '0' + str(date.day) if len(str(date.day)) == 1 else str(date.day)\n",
    "    month = '0' + str(date.month) if len(str(date.month)) == 1 else str(date.month)\n",
    "    year = str(date.year)\n",
    "    return '-'.join([year, month, day])\n",
    "\n",
    "def form_url(since, until):\n",
    "    p1 = 'https://twitter.com/search?f=tweets&vertical=default&q=from%3A'\n",
    "    p2 =  user + '%20since%3A' + since + '%20until%3A' + until + 'include%3Aretweets&src=typd'\n",
    "    return p1 + p2\n",
    "\n",
    "def increment_day(date, i):\n",
    "    return date + datetime.timedelta(days=i)\n",
    "\n",
    "for day in range(days):\n",
    "    d1 = format_day(increment_day(start, 0))\n",
    "    d2 = format_day(increment_day(start, 1))\n",
    "    url = form_url(d1, d2)\n",
    "    print(url)\n",
    "    print(d1)\n",
    "    driver.get(url)\n",
    "    sleep(delay)\n",
    "\n",
    "    try:\n",
    "        found_tweets = driver.find_elements_by_css_selector(tweet_selector)\n",
    "        increment = 10\n",
    "\n",
    "        while len(found_tweets) >= increment:\n",
    "            print('scrolling down to load more tweets')\n",
    "            driver.execute_script('window.scrollTo(0, document.body.scrollHeight);')\n",
    "            sleep(delay)\n",
    "            found_tweets = driver.find_elements_by_css_selector(tweet_selector)\n",
    "            increment += 10\n",
    "\n",
    "        print('{} tweets found, {} total'.format(len(found_tweets), len(ids)))\n",
    "\n",
    "        for tweet in found_tweets:\n",
    "            try:\n",
    "                id = tweet.find_element_by_css_selector(id_selector).get_attribute('href').split('/')[-1]\n",
    "                ids.append(id)\n",
    "            except StaleElementReferenceException as e:\n",
    "                print('lost element reference', tweet)\n",
    "\n",
    "    except NoSuchElementException:\n",
    "        print('no tweets on this day')\n",
    "\n",
    "    start = increment_day(start, 1)\n",
    "\n",
    "\n",
    "try:\n",
    "    with open(twitter_ids_filename) as f:\n",
    "        all_ids = ids + json.load(f)\n",
    "        data_to_write = list(set(all_ids))\n",
    "        print('tweets found on this scrape: ', len(ids))\n",
    "        print('total tweet count: ', len(data_to_write))\n",
    "except FileNotFoundError:\n",
    "    with open(twitter_ids_filename, 'w') as f:\n",
    "        all_ids = ids\n",
    "        data_to_write = list(set(all_ids))\n",
    "        print('tweets found on this scrape: ', len(ids))\n",
    "        print('total tweet count: ', len(data_to_write))\n",
    "\n",
    "with open(twitter_ids_filename, 'w') as outfile:\n",
    "    json.dump(data_to_write, outfile)\n",
    "\n",
    "print('all done here')\n",
    "driver.close()\n"
   ]
  },
  {
   "cell_type": "code",
   "execution_count": 13,
   "metadata": {
    "scrolled": false,
    "slideshow": {
     "slide_type": "subslide"
    }
   },
   "outputs": [
    {
     "name": "stdout",
     "output_type": "stream",
     "text": [
      "total ids: 55\n",
      "currently getting 0 - 100\n",
      "metadata collection complete\n",
      "creating master json file\n",
      "creating ziped master json file\n",
      "creating minimized json master file\n"
     ]
    }
   ],
   "source": [
    "# Mass Data \n",
    "import tweepy\n",
    "import json\n",
    "import math\n",
    "import glob\n",
    "import csv\n",
    "import zipfile\n",
    "import zlib\n",
    "from tweepy import TweepError\n",
    "from time import sleep\n",
    "import unicodedata\n",
    "user = 'MichaelBennet'\n",
    "# Consumer keys and access tokens, used for OAuth\n",
    "consumer_key = 'MKFuTmc28rZ8UARafp6Xc9R6f'\n",
    "consumer_secret = 'uuw9QolA6jEfDNVCi0YNLBYOGyk44FIqQOjPPHLH60JAUMhl8o'\n",
    "#Access\n",
    "access_token = '797075677946277888-CBRjWMulthQ1RD94GJ5ZojA4sFPzixj'\n",
    "access_token_secret = 'fpjUviOHzgGxzWiOYLrrSQ6SJb52qhRd6QESbCs7VzirK'\n",
    "\n",
    "# OAuth\n",
    "auth = tweepy.OAuthHandler(consumer_key, consumer_secret)\n",
    "auth.set_access_token(access_token, access_token_secret)\n",
    "\n",
    "# Creation of the actual interface, using authentication\n",
    "api = tweepy.API(auth) \n",
    "\n",
    "user = user.lower()\n",
    "output_file = '{}.json'.format(user)\n",
    "output_file_short = '{}_short.json'.format(user)\n",
    "compression = zipfile.ZIP_DEFLATED\n",
    "\n",
    "with open('all_ids.json') as f:\n",
    "    ids = json.load(f)\n",
    "\n",
    "print('total ids: {}'.format(len(ids)))\n",
    "\n",
    "all_data = []\n",
    "start = 0\n",
    "end = 100\n",
    "limit = len(ids)\n",
    "i = math.ceil(limit / 100)\n",
    "\n",
    "for go in range(i):\n",
    "    print('currently getting {} - {}'.format(start, end))\n",
    "    sleep(6)  # needed to prevent hitting API rate limit\n",
    "    id_batch = ids[start:end]\n",
    "    start += 100\n",
    "    end += 100\n",
    "    tweets = api.statuses_lookup(id_batch)\n",
    "    for tweet in tweets:\n",
    "        all_data.append(dict(tweet._json))\n",
    "\n",
    "print('metadata collection complete')\n",
    "print('creating master json file')\n",
    "with open(output_file, 'w') as outfile:\n",
    "    json.dump(all_data, outfile)\n",
    "\n",
    "print('creating ziped master json file')\n",
    "zf = zipfile.ZipFile('{}.zip'.format(user), mode='w')\n",
    "zf.write(output_file, compress_type=compression)\n",
    "zf.close()\n",
    "\n",
    "results = []\n",
    "\n",
    "def is_retweet(entry):\n",
    "    return 'retweeted_status' in entry.keys()\n",
    "\n",
    "def get_source(entry):\n",
    "    if '<' in entry[\"source\"]:\n",
    "        return entry[\"source\"].split('>')[1].split('<')[0]\n",
    "    else:\n",
    "        return entry[\"source\"]\n",
    "\n",
    "with open(output_file) as json_data:\n",
    "    data = json.load(json_data)\n",
    "    for entry in data:\n",
    "        t = {\n",
    "            \"created_at\": entry[\"created_at\"],\n",
    "            \"text\": entry[\"text\"],\n",
    "            \"in_reply_to_screen_name\": entry[\"in_reply_to_screen_name\"],\n",
    "            \"retweet_count\": entry[\"retweet_count\"],\n",
    "            \"favorite_count\": entry[\"favorite_count\"],\n",
    "            \"source\": get_source(entry),\n",
    "            \"id_str\": entry[\"id_str\"],\n",
    "            \"is_retweet\": is_retweet(entry)\n",
    "        }\n",
    "        results.append(t)\n",
    "\n",
    "print('creating minimized json master file')\n",
    "with open(output_file_short, 'w') as outfile:\n",
    "    json.dump(results, outfile)\n"
   ]
  },
  {
   "cell_type": "code",
   "execution_count": 15,
   "metadata": {
    "slideshow": {
     "slide_type": "slide"
    }
   },
   "outputs": [],
   "source": [
    "# Open File\n",
    "with open(r'C:\\Users\\YooSarina\\Desktop\\Project\\michaelbennet_short.json') as f:\n",
    "    jsondata = json.load(f)\n",
    "\n",
    "normalized_json = pd.io.json.json_normalize(jsondata)\n",
    "\n",
    "tweets = pd.DataFrame(normalized_json)\n",
    "#Covert Pandas to Datetime\n",
    "tweets['created_at'] = pd.to_datetime(tweets['created_at'])\n",
    "tweets.text.fillna(tweets.text, inplace=True)"
   ]
  },
  {
   "cell_type": "code",
   "execution_count": 16,
   "metadata": {
    "slideshow": {
     "slide_type": "subslide"
    }
   },
   "outputs": [
    {
     "data": {
      "text/html": [
       "<div>\n",
       "<style scoped>\n",
       "    .dataframe tbody tr th:only-of-type {\n",
       "        vertical-align: middle;\n",
       "    }\n",
       "\n",
       "    .dataframe tbody tr th {\n",
       "        vertical-align: top;\n",
       "    }\n",
       "\n",
       "    .dataframe thead th {\n",
       "        text-align: right;\n",
       "    }\n",
       "</style>\n",
       "<table border=\"1\" class=\"dataframe\">\n",
       "  <thead>\n",
       "    <tr style=\"text-align: right;\">\n",
       "      <th></th>\n",
       "      <th>created_at</th>\n",
       "      <th>favorite_count</th>\n",
       "      <th>id_str</th>\n",
       "      <th>in_reply_to_screen_name</th>\n",
       "      <th>is_retweet</th>\n",
       "      <th>retweet_count</th>\n",
       "      <th>source</th>\n",
       "      <th>text</th>\n",
       "    </tr>\n",
       "  </thead>\n",
       "  <tbody>\n",
       "    <tr>\n",
       "      <th>22</th>\n",
       "      <td>2019-04-22 16:40:44+00:00</td>\n",
       "      <td>130</td>\n",
       "      <td>1120366837865250817</td>\n",
       "      <td>None</td>\n",
       "      <td>False</td>\n",
       "      <td>21</td>\n",
       "      <td>Twitter Web Client</td>\n",
       "      <td>Good. Now do Stephen Moore. https://t.co/UFgFT...</td>\n",
       "    </tr>\n",
       "    <tr>\n",
       "      <th>50</th>\n",
       "      <td>2019-04-22 20:33:50+00:00</td>\n",
       "      <td>58</td>\n",
       "      <td>1120425502085349376</td>\n",
       "      <td>None</td>\n",
       "      <td>False</td>\n",
       "      <td>9</td>\n",
       "      <td>Twitter Web Client</td>\n",
       "      <td>Let’s make a promise to our children to leave ...</td>\n",
       "    </tr>\n",
       "  </tbody>\n",
       "</table>\n",
       "</div>"
      ],
      "text/plain": [
       "                  created_at  favorite_count               id_str  \\\n",
       "22 2019-04-22 16:40:44+00:00             130  1120366837865250817   \n",
       "50 2019-04-22 20:33:50+00:00              58  1120425502085349376   \n",
       "\n",
       "   in_reply_to_screen_name  is_retweet  retweet_count              source  \\\n",
       "22                    None       False             21  Twitter Web Client   \n",
       "50                    None       False              9  Twitter Web Client   \n",
       "\n",
       "                                                 text  \n",
       "22  Good. Now do Stephen Moore. https://t.co/UFgFT...  \n",
       "50  Let’s make a promise to our children to leave ...  "
      ]
     },
     "execution_count": 16,
     "metadata": {},
     "output_type": "execute_result"
    }
   ],
   "source": [
    "#Sorty by time\n",
    "tweets.sort_values(['created_at'], ascending=True,inplace=True)\n",
    "tweets.head(2)"
   ]
  },
  {
   "cell_type": "code",
   "execution_count": 17,
   "metadata": {
    "slideshow": {
     "slide_type": "subslide"
    }
   },
   "outputs": [
    {
     "data": {
      "text/html": [
       "<div>\n",
       "<style scoped>\n",
       "    .dataframe tbody tr th:only-of-type {\n",
       "        vertical-align: middle;\n",
       "    }\n",
       "\n",
       "    .dataframe tbody tr th {\n",
       "        vertical-align: top;\n",
       "    }\n",
       "\n",
       "    .dataframe thead th {\n",
       "        text-align: right;\n",
       "    }\n",
       "</style>\n",
       "<table border=\"1\" class=\"dataframe\">\n",
       "  <thead>\n",
       "    <tr style=\"text-align: right;\">\n",
       "      <th></th>\n",
       "      <th>created_at</th>\n",
       "      <th>favorite_count</th>\n",
       "      <th>retweet_count</th>\n",
       "      <th>source</th>\n",
       "      <th>text</th>\n",
       "    </tr>\n",
       "  </thead>\n",
       "  <tbody>\n",
       "    <tr>\n",
       "      <th>22</th>\n",
       "      <td>2019-04-22 16:40:44+00:00</td>\n",
       "      <td>130</td>\n",
       "      <td>21</td>\n",
       "      <td>Twitter Web Client</td>\n",
       "      <td>Good. Now do Stephen Moore. https://t.co/UFgFT...</td>\n",
       "    </tr>\n",
       "    <tr>\n",
       "      <th>50</th>\n",
       "      <td>2019-04-22 20:33:50+00:00</td>\n",
       "      <td>58</td>\n",
       "      <td>9</td>\n",
       "      <td>Twitter Web Client</td>\n",
       "      <td>Let’s make a promise to our children to leave ...</td>\n",
       "    </tr>\n",
       "    <tr>\n",
       "      <th>27</th>\n",
       "      <td>2019-04-23 13:45:51+00:00</td>\n",
       "      <td>130</td>\n",
       "      <td>26</td>\n",
       "      <td>Twitter Web Client</td>\n",
       "      <td>We have to figure out how to govern this count...</td>\n",
       "    </tr>\n",
       "  </tbody>\n",
       "</table>\n",
       "</div>"
      ],
      "text/plain": [
       "                  created_at  favorite_count  retweet_count  \\\n",
       "22 2019-04-22 16:40:44+00:00             130             21   \n",
       "50 2019-04-22 20:33:50+00:00              58              9   \n",
       "27 2019-04-23 13:45:51+00:00             130             26   \n",
       "\n",
       "                source                                               text  \n",
       "22  Twitter Web Client  Good. Now do Stephen Moore. https://t.co/UFgFT...  \n",
       "50  Twitter Web Client  Let’s make a promise to our children to leave ...  \n",
       "27  Twitter Web Client  We have to figure out how to govern this count...  "
      ]
     },
     "execution_count": 17,
     "metadata": {},
     "output_type": "execute_result"
    }
   ],
   "source": [
    "# Drop unnecessary columns\n",
    "tweets.drop(['id_str','in_reply_to_screen_name','is_retweet'], axis=1, inplace=True)\n",
    "tweets.head(3)"
   ]
  },
  {
   "cell_type": "markdown",
   "metadata": {
    "slideshow": {
     "slide_type": "slide"
    }
   },
   "source": [
    "# 2. Descriptive Analysis"
   ]
  },
  {
   "cell_type": "markdown",
   "metadata": {
    "slideshow": {
     "slide_type": "subslide"
    }
   },
   "source": [
    "Total Tweets from Nov.1. 2016 to Feb. 17 2019"
   ]
  },
  {
   "cell_type": "code",
   "execution_count": 18,
   "metadata": {
    "slideshow": {
     "slide_type": "subslide"
    }
   },
   "outputs": [
    {
     "data": {
      "text/plain": [
       "(55, 5)"
      ]
     },
     "execution_count": 18,
     "metadata": {},
     "output_type": "execute_result"
    }
   ],
   "source": [
    "tweets.shape"
   ]
  },
  {
   "cell_type": "code",
   "execution_count": 19,
   "metadata": {
    "slideshow": {
     "slide_type": "subslide"
    }
   },
   "outputs": [
    {
     "data": {
      "text/plain": [
       "Index(['created_at', 'favorite_count', 'retweet_count', 'source', 'text'], dtype='object')"
      ]
     },
     "execution_count": 19,
     "metadata": {},
     "output_type": "execute_result"
    }
   ],
   "source": [
    "tweets.columns"
   ]
  },
  {
   "cell_type": "code",
   "execution_count": 20,
   "metadata": {
    "slideshow": {
     "slide_type": "subslide"
    }
   },
   "outputs": [
    {
     "data": {
      "text/plain": [
       "created_at        0\n",
       "favorite_count    0\n",
       "retweet_count     0\n",
       "source            0\n",
       "text              0\n",
       "dtype: int64"
      ]
     },
     "execution_count": 20,
     "metadata": {},
     "output_type": "execute_result"
    }
   ],
   "source": [
    "tweets.isnull().sum()"
   ]
  },
  {
   "cell_type": "code",
   "execution_count": 21,
   "metadata": {
    "scrolled": false,
    "slideshow": {
     "slide_type": "subslide"
    }
   },
   "outputs": [
    {
     "name": "stdout",
     "output_type": "stream",
     "text": [
      "Total tweets start from April 20, 2019 to May 7,2019 :  55 \n",
      "\n"
     ]
    }
   ],
   "source": [
    "# Total tweets for the priod \n",
    "print ('Total tweets start from April 20, 2019 to May 7,2019 : ',len(tweets.index),'\\n')"
   ]
  },
  {
   "cell_type": "code",
   "execution_count": 22,
   "metadata": {
    "slideshow": {
     "slide_type": "subslide"
    }
   },
   "outputs": [
    {
     "name": "stdout",
     "output_type": "stream",
     "text": [
      "Average retweets: 64.22 \n",
      "\n",
      "Top 5 Retweets:\n",
      "My cancer operation cost $53,000. That could've bankrupted people without insurance. Yet we have a President who wa… https://t.co/0AnLT7l2xi - 670\n",
      "We cannot be the first generation to leave less to our kids, not more. \n",
      "\n",
      "That’s why I’m running for President. Let’… https://t.co/4YFBCfLlaK - 375\n",
      "Here’s what Michael wrote and published today that he’s discussing with @Maddow. - Team Bennet\n",
      "\n",
      "https://t.co/PKlgp2hCsp - 281\n",
      "Republicans in the Senate rejected a Nobel Laureate economist’s nomination for the Federal Reserve during the Obama… https://t.co/jZjw6WscUz - 247\n",
      "It’s time to build the future we want, or one we don’t want will be thrust upon us.\n",
      "\n",
      "I’m running for President to b… https://t.co/GoPn8HrXRW - 234\n"
     ]
    }
   ],
   "source": [
    "# Retweets\n",
    "tweet_retweets = tweets.sort_values(by='retweet_count', ascending=False)\n",
    "tweet_retweets= tweet_retweets.reset_index(drop=True)\n",
    "print ('Average retweets:', round(tweet_retweets['retweet_count'].mean(),2), '\\n')\n",
    "print ('Top 5 Retweets:')\n",
    "for i in range(5): #iloc to prinit row until i\n",
    "    print (tweet_retweets['text'].iloc[i], '-', tweet_retweets['retweet_count'].iloc[i])"
   ]
  },
  {
   "cell_type": "code",
   "execution_count": 23,
   "metadata": {
    "slideshow": {
     "slide_type": "subslide"
    }
   },
   "outputs": [
    {
     "name": "stdout",
     "output_type": "stream",
     "text": [
      "Average likes: 253.25 \n",
      "\n",
      "Top 5 Liked:\n",
      "My cancer operation cost $53,000. That could've bankrupted people without insurance. Yet we have a President who wa… https://t.co/0AnLT7l2xi - 2718\n",
      "We cannot be the first generation to leave less to our kids, not more. \n",
      "\n",
      "That’s why I’m running for President. Let’… https://t.co/4YFBCfLlaK - 1646\n",
      "Here’s what Michael wrote and published today that he’s discussing with @Maddow. - Team Bennet\n",
      "\n",
      "https://t.co/PKlgp2hCsp - 763\n",
      "We need a genuine, new progressive era to fix our politics. We need to overturn Citizens United, ban partisan gerry… https://t.co/yzVbClR7R4 - 687\n",
      "When I think about Mitch McConnell and the Freedom Caucus, I think of people who are completely immune to give and… https://t.co/HPhEOM6GF0 - 658\n"
     ]
    }
   ],
   "source": [
    "# Likes\n",
    "tweet_likes = tweets.sort_values(by='favorite_count', ascending=False)\n",
    "tweet_likes = tweet_likes.reset_index(drop=True)\n",
    "print ('Average likes:', round(tweet_likes['favorite_count'].mean(),2), '\\n')\n",
    "print ('Top 5 Liked:')\n",
    "for i in range(5):\n",
    "    print (tweet_likes['text'].iloc[i], '-', tweet_likes['favorite_count'].iloc[i])\n"
   ]
  },
  {
   "cell_type": "code",
   "execution_count": 29,
   "metadata": {
    "slideshow": {
     "slide_type": "slide"
    }
   },
   "outputs": [
    {
     "data": {
      "text/plain": [
       "['good.',\n",
       " 'stephen',\n",
       " 'moore.',\n",
       " 'https://t./ufgftyz65d',\n",
       " 'let’s',\n",
       " 'make',\n",
       " 'promise',\n",
       " 'children',\n",
       " 'leave',\n",
       " 'better',\n",
       " 'planet.',\n",
       " '#earthday',\n",
       " 'https://t./wkgf2efdrs',\n",
       " 'figure',\n",
       " 'govern',\n",
       " 'country',\n",
       " '.',\n",
       " 'freedom',\n",
       " 'caucus',\n",
       " '&amp;',\n",
       " '@realdonaldtrump,',\n",
       " '’',\n",
       " 'witnes…',\n",
       " 'https://t./mdxsatawrz',\n",
       " 'agree',\n",
       " '@jayinslee.',\n",
       " '#climatechange',\n",
       " 'forefront',\n",
       " 'race',\n",
       " 'deserves',\n",
       " 'thoughtful',\n",
       " '…',\n",
       " 'https://t./zqdovthss2',\n",
       " 'need',\n",
       " 'fix',\n",
       " 'broken',\n",
       " 'health',\n",
       " 'care',\n",
       " '.',\n",
       " '#medicarex',\n",
       " 'public',\n",
       " 'option',\n",
       " 'designed',\n",
       " 'increase',\n",
       " 'competition',\n",
       " 'lo…',\n",
       " 'https://t./9aytofohd8',\n",
       " 'words,',\n",
       " '@realdonaldtrump:',\n",
       " 'drain.',\n",
       " '.',\n",
       " 'swamp.',\n",
       " 'https://t./fz5mzzylji',\n",
       " 'partisan',\n",
       " 'gerrymandering,',\n",
       " 'politicians',\n",
       " 'choose',\n",
       " 'voters',\n",
       " '--taking',\n",
       " 'away',\n",
       " 'voice.',\n",
       " '’s',\n",
       " 'just',\n",
       " 'wrong.',\n",
       " '’m',\n",
       " 'l…',\n",
       " 'https://t./q9era5icrk',\n",
       " 'middle-class',\n",
       " 'life',\n",
       " 'increasingly',\n",
       " 'reach',\n",
       " 'americans.',\n",
       " '40%',\n",
       " 'adults',\n",
       " 'trouble',\n",
       " 'paying',\n",
       " 'health',\n",
       " 'c…',\n",
       " 'https://t./vc4uflpoan',\n",
       " 'serving',\n",
       " 'school',\n",
       " 'superintendent',\n",
       " 'best',\n",
       " 'jobs',\n",
       " '’ll',\n",
       " '.',\n",
       " ',',\n",
       " 'try',\n",
       " 'th…',\n",
       " 'https://t./tkuslurlt7',\n",
       " 'crisis',\n",
       " 'economic',\n",
       " 'immobility',\n",
       " 'country:',\n",
       " 'americans',\n",
       " 'squeezed',\n",
       " 'soaring',\n",
       " 'costs',\n",
       " 'stagnant',\n",
       " 'w…',\n",
       " 'https://t./jcg6dsrih9',\n",
       " 'need',\n",
       " 'genuine,',\n",
       " 'new',\n",
       " 'progressive',\n",
       " 'era',\n",
       " 'fix',\n",
       " 'politics.',\n",
       " 'need',\n",
       " 'overturn',\n",
       " 'citizens',\n",
       " 'united,',\n",
       " 'ban',\n",
       " 'partisan',\n",
       " 'gerry…',\n",
       " 'https://t./yzvbclr7r4',\n",
       " 'months',\n",
       " 'tree',\n",
       " 'life',\n",
       " 'synagogue',\n",
       " 'shooting,',\n",
       " 'act',\n",
       " 'anti-semitic',\n",
       " 'violence',\n",
       " 'afflicted',\n",
       " 'comm…',\n",
       " 'https://t./4vbnbumhgy',\n",
       " 'republicans',\n",
       " 'senate',\n",
       " 'rejected',\n",
       " 'nobel',\n",
       " 'laureate',\n",
       " 'economist’s',\n",
       " 'nomination',\n",
       " 'federal',\n",
       " 'reserve',\n",
       " 'obama…',\n",
       " 'https://t./jzjw6wscuz',\n",
       " 'need',\n",
       " 'dismantle',\n",
       " 'pay--play',\n",
       " 'politics.',\n",
       " 'authored',\n",
       " 'clean',\n",
       " 'politics',\n",
       " 'act',\n",
       " 'close',\n",
       " 'blatant',\n",
       " 'lobbying',\n",
       " 'loopholes,',\n",
       " 'b…',\n",
       " 'https://t./my7qn51tb8',\n",
       " 'need',\n",
       " 'build',\n",
       " 'opportunity',\n",
       " 'america.',\n",
       " '40',\n",
       " 'years,',\n",
       " '90%',\n",
       " 'american',\n",
       " 'people',\n",
       " 'haven’t',\n",
       " 'shared',\n",
       " 'country’s',\n",
       " 'e…',\n",
       " 'https://t./hycpxqv5qn',\n",
       " '👀',\n",
       " 'know',\n",
       " 'plans',\n",
       " 'future',\n",
       " '→',\n",
       " 'https://t./72t7u5mid3',\n",
       " 'https://t./995n0h63k3',\n",
       " 'need',\n",
       " 'cover',\n",
       " ',',\n",
       " 'drive',\n",
       " 'health',\n",
       " 'costs,',\n",
       " 'deliver',\n",
       " 'high-quality',\n",
       " 'care.',\n",
       " 'strong',\n",
       " 'public',\n",
       " 'option,…',\n",
       " 'https://t./v7flsolcwl',\n",
       " 'getting',\n",
       " 'ready',\n",
       " '@cbsthismorning.',\n",
       " 'tune',\n",
       " '!',\n",
       " 'https://t./5o9azerjel',\n",
       " 'generation',\n",
       " 'leave',\n",
       " 'kids,',\n",
       " '.',\n",
       " '’s',\n",
       " '’m',\n",
       " 'running',\n",
       " 'president.',\n",
       " 'let’…',\n",
       " 'https://t./4yfbcfllak',\n",
       " 'dynamic',\n",
       " 'economies,',\n",
       " 'vast',\n",
       " 'majority',\n",
       " 'people',\n",
       " '’t',\n",
       " 'afford',\n",
       " 'combination',\n",
       " 'health',\n",
       " 'care…',\n",
       " 'https://t./rmejkclhgl',\n",
       " 'today',\n",
       " 'announced',\n",
       " '’m',\n",
       " 'running',\n",
       " 'president.',\n",
       " 'enormous',\n",
       " 'challenges',\n",
       " 'country:',\n",
       " 'lack',\n",
       " 'economi…',\n",
       " 'https://t./yvjfjfcpah',\n",
       " '’s',\n",
       " 'time',\n",
       " 'build',\n",
       " 'future',\n",
       " 'want,',\n",
       " 'don’t',\n",
       " 'want',\n",
       " 'thrust',\n",
       " '.',\n",
       " '’m',\n",
       " 'running',\n",
       " 'president',\n",
       " 'b…',\n",
       " 'https://t./gopn8hrxrw',\n",
       " 'campaign',\n",
       " 'funded',\n",
       " '.',\n",
       " '’s',\n",
       " 'don’t',\n",
       " 'corporate',\n",
       " 'pac',\n",
       " 'money,',\n",
       " '’m',\n",
       " 'fi…',\n",
       " 'https://t./uhqobsctcj',\n",
       " 'worked',\n",
       " '@thejusticedept,',\n",
       " 'know',\n",
       " 'men',\n",
       " 'women',\n",
       " 'work',\n",
       " 'committed',\n",
       " 'patriots.',\n",
       " '…',\n",
       " 'https://t./xmapmmtrnk',\n",
       " \"'m\",\n",
       " 'running',\n",
       " 'president',\n",
       " 'important',\n",
       " 'question',\n",
       " 'deserves',\n",
       " 'thoughtful',\n",
       " 'answer.',\n",
       " 'hope',\n",
       " \"'ll\",\n",
       " 'mome…',\n",
       " 'https://t./wbopgyzfug',\n",
       " '@tedcruz',\n",
       " 'https://t./ghrq2x66lk',\n",
       " 'looks',\n",
       " 'like',\n",
       " 'tick',\n",
       " 'ted',\n",
       " 'cruz',\n",
       " 'debate',\n",
       " 'stage.',\n",
       " \"'s\",\n",
       " 'chip',\n",
       " '$1:…',\n",
       " 'https://t./zbigfinvge',\n",
       " 'thanks,',\n",
       " 'gov!',\n",
       " 'look',\n",
       " 'forward',\n",
       " 'seeing',\n",
       " '.',\n",
       " 'https://t./hvzhwptzv9',\n",
       " 'joining',\n",
       " '@maddow',\n",
       " '9:30.',\n",
       " 'tune',\n",
       " '!',\n",
       " 'https://t./sy2jcfoaoc',\n",
       " '’s',\n",
       " 'michael',\n",
       " 'wrote',\n",
       " 'published',\n",
       " 'today',\n",
       " '’s',\n",
       " 'discussing',\n",
       " '@maddow.',\n",
       " '-',\n",
       " 'team',\n",
       " 'bennet',\n",
       " 'https://t./pklgp2hcsp',\n",
       " 'joining',\n",
       " '@morning_joe',\n",
       " 'minutes',\n",
       " 'https://t./dknwybxpod',\n",
       " 'reasons',\n",
       " 'susan',\n",
       " 'decided',\n",
       " 'run',\n",
       " 'president.',\n",
       " 'join',\n",
       " 'https://t./gskh5avsds',\n",
       " 'https://t./dt5d2ikiv7',\n",
       " 'think',\n",
       " 'mitch',\n",
       " 'mcconnell',\n",
       " 'freedom',\n",
       " 'caucus,',\n",
       " 'think',\n",
       " 'people',\n",
       " 'completely',\n",
       " 'immune',\n",
       " '…',\n",
       " 'https://t./hpheom6gf0',\n",
       " 'durable',\n",
       " 'progress',\n",
       " 'fashioned',\n",
       " 'obscured',\n",
       " 'truth,',\n",
       " 'slogans,',\n",
       " 'promises.',\n",
       " '…',\n",
       " 'https://t./6zxmynqq09',\n",
       " 'thanks',\n",
       " 'kind',\n",
       " 'words,',\n",
       " 'andy.',\n",
       " 'grateful',\n",
       " 'work',\n",
       " 'ensure',\n",
       " 'american',\n",
       " 'high-quality',\n",
       " 'health',\n",
       " 'cover…',\n",
       " 'https://t./oqvvc8nzst',\n",
       " '@jtmmartino',\n",
       " '@maddow',\n",
       " 'thanks',\n",
       " ',',\n",
       " '@jtmmartino.',\n",
       " 'michael',\n",
       " \"bennet's\",\n",
       " '\"rising',\n",
       " 'challenge\"…',\n",
       " 'https://t./puwxtpejjt',\n",
       " 'cancer',\n",
       " 'operation',\n",
       " 'cost',\n",
       " '$53,000.',\n",
       " \"'ve\",\n",
       " 'bankrupted',\n",
       " 'people',\n",
       " 'insurance.',\n",
       " 'president',\n",
       " 'wa…',\n",
       " 'https://t./0anlt7l2xi',\n",
       " 'need',\n",
       " 'build',\n",
       " 'opportunity',\n",
       " 'american',\n",
       " 'restore',\n",
       " 'integrity',\n",
       " 'government.',\n",
       " 'starts',\n",
       " 'telling…',\n",
       " 'https://t./ray0wjy0xy',\n",
       " 'watched',\n",
       " 'youngest',\n",
       " 'daughter,',\n",
       " 'anne,',\n",
       " 'compete',\n",
       " 'colorado',\n",
       " 'history',\n",
       " 'day',\n",
       " 'today.',\n",
       " 'project',\n",
       " 'told',\n",
       " 'stories',\n",
       " 'artists…',\n",
       " 'https://t./jyblg6ys94',\n",
       " 'loved',\n",
       " 'meeting',\n",
       " 'colorado',\n",
       " 'students',\n",
       " 'competing',\n",
       " 'history',\n",
       " 'day',\n",
       " '—',\n",
       " 'heard',\n",
       " 'impressive',\n",
       " 'performances,',\n",
       " 'wis…',\n",
       " 'https://t./ckcx3nlc6z',\n",
       " 'beautiful',\n",
       " 'day',\n",
       " 'denver.',\n",
       " 'enjoyed',\n",
       " 'home,',\n",
       " 'iowa!',\n",
       " 'https://t./tuclwzgjtt',\n",
       " 'stop:',\n",
       " 'plane',\n",
       " 'snacks',\n",
       " 'stop:',\n",
       " 'iowa',\n",
       " 'https://t./k3hdqz8tjm',\n",
       " 'need',\n",
       " 'stop',\n",
       " 'allowing',\n",
       " 'tyranny',\n",
       " 'minority—',\n",
       " '-called',\n",
       " 'freedom',\n",
       " 'caucus',\n",
       " 'handful',\n",
       " 'billionaire…',\n",
       " 'https://t./dn0gkba94x',\n",
       " 'joined',\n",
       " 'pottawattamie',\n",
       " 'county',\n",
       " 'dems',\n",
       " 'coffee',\n",
       " 'council',\n",
       " 'bluffs.',\n",
       " 'grateful',\n",
       " 'hosts,',\n",
       " 'steve',\n",
       " 'christine,',\n",
       " 'gath…',\n",
       " 'https://t./o0l11n2x7w',\n",
       " 'think',\n",
       " 'war',\n",
       " 'americans',\n",
       " 'let',\n",
       " '10',\n",
       " 'million',\n",
       " 'american',\n",
       " 'children',\n",
       " 'grow',\n",
       " '…',\n",
       " 'https://t./zh0ul4l1uu',\n",
       " 'thanks',\n",
       " 'manning',\n",
       " 'joining',\n",
       " 'conversation',\n",
       " 'lower',\n",
       " 'cost',\n",
       " 'middle',\n",
       " 'class',\n",
       " 'life,',\n",
       " 'incl…',\n",
       " 'https://t./qqeca2hslg',\n",
       " 'parent',\n",
       " 'manning',\n",
       " 'told',\n",
       " ',',\n",
       " '“',\n",
       " 'greatest',\n",
       " 'resource',\n",
       " 'kids,',\n",
       " '.”',\n",
       " 'consi…',\n",
       " 'https://t./93yhjfkifg',\n",
       " 'questions',\n",
       " 'tonight’s',\n",
       " 'ankeny',\n",
       " 'house',\n",
       " 'party',\n",
       " 'childhood',\n",
       " 'poverty.',\n",
       " 'need',\n",
       " 'expand',\n",
       " 'child…',\n",
       " 'https://t./jaw7pn8e0t',\n",
       " 'hello',\n",
       " 'bennets!',\n",
       " 'missing',\n",
       " 'oldest',\n",
       " 'daughter',\n",
       " 'caroline',\n",
       " 'make',\n",
       " 'way',\n",
       " 'western',\n",
       " 'iowa.',\n",
       " 'https://t./dozztic6m8',\n",
       " 'president',\n",
       " ':',\n",
       " '✅',\n",
       " 'drive',\n",
       " 'wages',\n",
       " '✅',\n",
       " 'make',\n",
       " 'housing,',\n",
       " 'healthcare,',\n",
       " 'child',\n",
       " 'care,',\n",
       " '&amp;',\n",
       " 'higher',\n",
       " 'ed',\n",
       " '…',\n",
       " 'https://t./zwvjwadpiv',\n",
       " 'annoy',\n",
       " '@tedcruz,',\n",
       " 'chip',\n",
       " '$1',\n",
       " 'send',\n",
       " 'debate',\n",
       " 'stage:',\n",
       " 'https://t./2jw1kcexjx',\n",
       " 'https://t./rewvktbcza',\n",
       " 'special',\n",
       " 'interests',\n",
       " 'spent',\n",
       " '$17',\n",
       " 'million',\n",
       " 'attacking',\n",
       " '2010—',\n",
       " 'expensive',\n",
       " 'race',\n",
       " 'cycle.',\n",
       " 'ran',\n",
       " 'ads…',\n",
       " 'https://t./1pmy1qkf3a',\n",
       " '’m',\n",
       " 'running',\n",
       " 'build',\n",
       " 'opportunity',\n",
       " 'american',\n",
       " 'restore',\n",
       " 'integrity',\n",
       " 'washington.',\n",
       " 'campaign',\n",
       " 'isn’t',\n",
       " 'takin…',\n",
       " 'https://t./4lch4ef3qa',\n",
       " 'today',\n",
       " 'memorable',\n",
       " 'official',\n",
       " 'trip',\n",
       " 'iowa',\n",
       " 'announcing',\n",
       " 'run',\n",
       " 'president.',\n",
       " 'grateful',\n",
       " '…',\n",
       " 'https://t./n033m4kawn',\n",
       " 'stand',\n",
       " \"israel's\",\n",
       " 'right',\n",
       " 'self',\n",
       " 'defense',\n",
       " 'rocket',\n",
       " 'attacks',\n",
       " 'terror',\n",
       " 'groups',\n",
       " 'inside',\n",
       " 'gaza.',\n",
       " 'launching',\n",
       " 'rocke…',\n",
       " 'https://t./dhgibafiom']"
      ]
     },
     "execution_count": 29,
     "metadata": {},
     "output_type": "execute_result"
    }
   ],
   "source": [
    "# Find mostly used words\n",
    "from collections import Counter\n",
    "\n",
    "import string\n",
    "\n",
    "from sklearn.feature_extraction.text import ENGLISH_STOP_WORDS\n",
    "\n",
    "\n",
    "custom_stop_words = list(ENGLISH_STOP_WORDS)\n",
    "\n",
    "# RegEx for stopwords\n",
    "# \\b backslash B word boundary(white space)\n",
    "#?:It's called a 'non-capturing group', which means the regex would not make a group by the match inside the parenteses like it would otherwise do (normally, a parenthesis creates a group).\n",
    "# format() will replace {}. {} for expandsion\n",
    "# | means either or\n",
    "RE_stopwords = r'\\b(?:{})\\b'.format('|'.join(custom_stop_words))\n",
    "\n",
    "words = (tweets.text\n",
    "           .str.lower()\n",
    "           .replace([r'\\|',RE_stopwords ], [' ', ''], regex=True)\n",
    "           .str.cat(sep=' ') # Concatenate  strings in a series/index with given seperater\n",
    "           .split()\n",
    ")\n",
    "words\n"
   ]
  },
  {
   "cell_type": "code",
   "execution_count": 26,
   "metadata": {
    "slideshow": {
     "slide_type": "subslide"
    }
   },
   "outputs": [
    {
     "data": {
      "text/html": [
       "<div>\n",
       "<style scoped>\n",
       "    .dataframe tbody tr th:only-of-type {\n",
       "        vertical-align: middle;\n",
       "    }\n",
       "\n",
       "    .dataframe tbody tr th {\n",
       "        vertical-align: top;\n",
       "    }\n",
       "\n",
       "    .dataframe thead th {\n",
       "        text-align: right;\n",
       "    }\n",
       "</style>\n",
       "<table border=\"1\" class=\"dataframe\">\n",
       "  <thead>\n",
       "    <tr style=\"text-align: right;\">\n",
       "      <th></th>\n",
       "      <th>Word</th>\n",
       "      <th>Frequency</th>\n",
       "    </tr>\n",
       "  </thead>\n",
       "  <tbody>\n",
       "    <tr>\n",
       "      <th>0</th>\n",
       "      <td>need</td>\n",
       "      <td>9</td>\n",
       "    </tr>\n",
       "    <tr>\n",
       "      <th>1</th>\n",
       "      <td>.</td>\n",
       "      <td>8</td>\n",
       "    </tr>\n",
       "    <tr>\n",
       "      <th>2</th>\n",
       "      <td>…</td>\n",
       "      <td>7</td>\n",
       "    </tr>\n",
       "    <tr>\n",
       "      <th>3</th>\n",
       "      <td>’s</td>\n",
       "      <td>6</td>\n",
       "    </tr>\n",
       "    <tr>\n",
       "      <th>4</th>\n",
       "      <td>’m</td>\n",
       "      <td>6</td>\n",
       "    </tr>\n",
       "    <tr>\n",
       "      <th>5</th>\n",
       "      <td>health</td>\n",
       "      <td>5</td>\n",
       "    </tr>\n",
       "    <tr>\n",
       "      <th>6</th>\n",
       "      <td>american</td>\n",
       "      <td>5</td>\n",
       "    </tr>\n",
       "    <tr>\n",
       "      <th>7</th>\n",
       "      <td>running</td>\n",
       "      <td>5</td>\n",
       "    </tr>\n",
       "    <tr>\n",
       "      <th>8</th>\n",
       "      <td>,</td>\n",
       "      <td>4</td>\n",
       "    </tr>\n",
       "    <tr>\n",
       "      <th>9</th>\n",
       "      <td>build</td>\n",
       "      <td>4</td>\n",
       "    </tr>\n",
       "    <tr>\n",
       "      <th>10</th>\n",
       "      <td>people</td>\n",
       "      <td>4</td>\n",
       "    </tr>\n",
       "    <tr>\n",
       "      <th>11</th>\n",
       "      <td>president.</td>\n",
       "      <td>4</td>\n",
       "    </tr>\n",
       "    <tr>\n",
       "      <th>12</th>\n",
       "      <td>president</td>\n",
       "      <td>4</td>\n",
       "    </tr>\n",
       "    <tr>\n",
       "      <th>13</th>\n",
       "      <td>make</td>\n",
       "      <td>3</td>\n",
       "    </tr>\n",
       "    <tr>\n",
       "      <th>14</th>\n",
       "      <td>freedom</td>\n",
       "      <td>3</td>\n",
       "    </tr>\n",
       "    <tr>\n",
       "      <th>15</th>\n",
       "      <td>opportunity</td>\n",
       "      <td>3</td>\n",
       "    </tr>\n",
       "    <tr>\n",
       "      <th>16</th>\n",
       "      <td>today</td>\n",
       "      <td>3</td>\n",
       "    </tr>\n",
       "    <tr>\n",
       "      <th>17</th>\n",
       "      <td>joining</td>\n",
       "      <td>3</td>\n",
       "    </tr>\n",
       "    <tr>\n",
       "      <th>18</th>\n",
       "      <td>think</td>\n",
       "      <td>3</td>\n",
       "    </tr>\n",
       "    <tr>\n",
       "      <th>19</th>\n",
       "      <td>thanks</td>\n",
       "      <td>3</td>\n",
       "    </tr>\n",
       "    <tr>\n",
       "      <th>20</th>\n",
       "      <td>grateful</td>\n",
       "      <td>3</td>\n",
       "    </tr>\n",
       "    <tr>\n",
       "      <th>21</th>\n",
       "      <td>day</td>\n",
       "      <td>3</td>\n",
       "    </tr>\n",
       "    <tr>\n",
       "      <th>22</th>\n",
       "      <td>children</td>\n",
       "      <td>2</td>\n",
       "    </tr>\n",
       "    <tr>\n",
       "      <th>23</th>\n",
       "      <td>leave</td>\n",
       "      <td>2</td>\n",
       "    </tr>\n",
       "    <tr>\n",
       "      <th>24</th>\n",
       "      <td>caucus</td>\n",
       "      <td>2</td>\n",
       "    </tr>\n",
       "    <tr>\n",
       "      <th>25</th>\n",
       "      <td>&amp;amp;</td>\n",
       "      <td>2</td>\n",
       "    </tr>\n",
       "    <tr>\n",
       "      <th>26</th>\n",
       "      <td>race</td>\n",
       "      <td>2</td>\n",
       "    </tr>\n",
       "    <tr>\n",
       "      <th>27</th>\n",
       "      <td>deserves</td>\n",
       "      <td>2</td>\n",
       "    </tr>\n",
       "    <tr>\n",
       "      <th>28</th>\n",
       "      <td>thoughtful</td>\n",
       "      <td>2</td>\n",
       "    </tr>\n",
       "    <tr>\n",
       "      <th>29</th>\n",
       "      <td>fix</td>\n",
       "      <td>2</td>\n",
       "    </tr>\n",
       "    <tr>\n",
       "      <th>30</th>\n",
       "      <td>public</td>\n",
       "      <td>2</td>\n",
       "    </tr>\n",
       "    <tr>\n",
       "      <th>31</th>\n",
       "      <td>words,</td>\n",
       "      <td>2</td>\n",
       "    </tr>\n",
       "    <tr>\n",
       "      <th>32</th>\n",
       "      <td>partisan</td>\n",
       "      <td>2</td>\n",
       "    </tr>\n",
       "    <tr>\n",
       "      <th>33</th>\n",
       "      <td>life</td>\n",
       "      <td>2</td>\n",
       "    </tr>\n",
       "    <tr>\n",
       "      <th>34</th>\n",
       "      <td>country:</td>\n",
       "      <td>2</td>\n",
       "    </tr>\n",
       "    <tr>\n",
       "      <th>35</th>\n",
       "      <td>americans</td>\n",
       "      <td>2</td>\n",
       "    </tr>\n",
       "    <tr>\n",
       "      <th>36</th>\n",
       "      <td>politics.</td>\n",
       "      <td>2</td>\n",
       "    </tr>\n",
       "    <tr>\n",
       "      <th>37</th>\n",
       "      <td>act</td>\n",
       "      <td>2</td>\n",
       "    </tr>\n",
       "    <tr>\n",
       "      <th>38</th>\n",
       "      <td>b…</td>\n",
       "      <td>2</td>\n",
       "    </tr>\n",
       "    <tr>\n",
       "      <th>39</th>\n",
       "      <td>know</td>\n",
       "      <td>2</td>\n",
       "    </tr>\n",
       "    <tr>\n",
       "      <th>40</th>\n",
       "      <td>future</td>\n",
       "      <td>2</td>\n",
       "    </tr>\n",
       "    <tr>\n",
       "      <th>41</th>\n",
       "      <td>drive</td>\n",
       "      <td>2</td>\n",
       "    </tr>\n",
       "    <tr>\n",
       "      <th>42</th>\n",
       "      <td>high-quality</td>\n",
       "      <td>2</td>\n",
       "    </tr>\n",
       "    <tr>\n",
       "      <th>43</th>\n",
       "      <td>tune</td>\n",
       "      <td>2</td>\n",
       "    </tr>\n",
       "    <tr>\n",
       "      <th>44</th>\n",
       "      <td>!</td>\n",
       "      <td>2</td>\n",
       "    </tr>\n",
       "    <tr>\n",
       "      <th>45</th>\n",
       "      <td>kids,</td>\n",
       "      <td>2</td>\n",
       "    </tr>\n",
       "    <tr>\n",
       "      <th>46</th>\n",
       "      <td>don’t</td>\n",
       "      <td>2</td>\n",
       "    </tr>\n",
       "    <tr>\n",
       "      <th>47</th>\n",
       "      <td>campaign</td>\n",
       "      <td>2</td>\n",
       "    </tr>\n",
       "    <tr>\n",
       "      <th>48</th>\n",
       "      <td>work</td>\n",
       "      <td>2</td>\n",
       "    </tr>\n",
       "    <tr>\n",
       "      <th>49</th>\n",
       "      <td>debate</td>\n",
       "      <td>2</td>\n",
       "    </tr>\n",
       "  </tbody>\n",
       "</table>\n",
       "</div>"
      ],
      "text/plain": [
       "            Word  Frequency\n",
       "0           need          9\n",
       "1              .          8\n",
       "2              …          7\n",
       "3             ’s          6\n",
       "4             ’m          6\n",
       "5         health          5\n",
       "6       american          5\n",
       "7        running          5\n",
       "8              ,          4\n",
       "9          build          4\n",
       "10        people          4\n",
       "11    president.          4\n",
       "12     president          4\n",
       "13          make          3\n",
       "14       freedom          3\n",
       "15   opportunity          3\n",
       "16         today          3\n",
       "17       joining          3\n",
       "18         think          3\n",
       "19        thanks          3\n",
       "20      grateful          3\n",
       "21           day          3\n",
       "22      children          2\n",
       "23         leave          2\n",
       "24        caucus          2\n",
       "25         &amp;          2\n",
       "26          race          2\n",
       "27      deserves          2\n",
       "28    thoughtful          2\n",
       "29           fix          2\n",
       "30        public          2\n",
       "31        words,          2\n",
       "32      partisan          2\n",
       "33          life          2\n",
       "34      country:          2\n",
       "35     americans          2\n",
       "36     politics.          2\n",
       "37           act          2\n",
       "38            b…          2\n",
       "39          know          2\n",
       "40        future          2\n",
       "41         drive          2\n",
       "42  high-quality          2\n",
       "43          tune          2\n",
       "44             !          2\n",
       "45         kids,          2\n",
       "46         don’t          2\n",
       "47      campaign          2\n",
       "48          work          2\n",
       "49        debate          2"
      ]
     },
     "execution_count": 26,
     "metadata": {},
     "output_type": "execute_result"
    }
   ],
   "source": [
    "# generate DF out of Counter\n",
    "words_data = pd.DataFrame(Counter(words).most_common(50),\n",
    "                    columns=['Word', 'Frequency']).set_index('Word')\n",
    "\n",
    "words_data = words_data.reset_index()\n",
    "\n",
    "words_data.head(50)"
   ]
  },
  {
   "cell_type": "markdown",
   "metadata": {
    "slideshow": {
     "slide_type": "slide"
    }
   },
   "source": [
    "# 3. Sentiment Analysis"
   ]
  },
  {
   "cell_type": "markdown",
   "metadata": {
    "slideshow": {
     "slide_type": "subslide"
    }
   },
   "source": [
    "3.1. Preview the sentiment column."
   ]
  },
  {
   "cell_type": "code",
   "execution_count": 39,
   "metadata": {
    "slideshow": {
     "slide_type": "subslide"
    }
   },
   "outputs": [],
   "source": [
    "# textblob for simplified text processing for sentiment analysis\n",
    "from textblob import TextBlob\n",
    "#import re\n",
    "def clean_tweet(tweet): \n",
    "        ''' \n",
    "        Utility function to clean tweet text by removing links, special characters \n",
    "        using simple regex statements. \n",
    "        '''\n",
    "        return ' '.join(re.sub(\"(@[A-Za-z0-9]+)|([^0-9A-Za-z \\t])|(\\w+:\\/\\/\\S+)\", \" \", tweet).split()) \n",
    "# Using textblob, sentences classify the polarity of a tweet\n",
    "def analize_sentiment(tweet):\n",
    "    analysis = TextBlob(clean_tweet(tweet))\n",
    "    if analysis.sentiment.polarity > 0:\n",
    "        return 'positive'\n",
    "    elif analysis.sentiment.polarity == 0:\n",
    "        return 'neutral'\n",
    "    else:\n",
    "        return 'negative'"
   ]
  },
  {
   "cell_type": "code",
   "execution_count": 41,
   "metadata": {
    "scrolled": true,
    "slideshow": {
     "slide_type": "subslide"
    }
   },
   "outputs": [
    {
     "data": {
      "text/html": [
       "<div>\n",
       "<style scoped>\n",
       "    .dataframe tbody tr th:only-of-type {\n",
       "        vertical-align: middle;\n",
       "    }\n",
       "\n",
       "    .dataframe tbody tr th {\n",
       "        vertical-align: top;\n",
       "    }\n",
       "\n",
       "    .dataframe thead th {\n",
       "        text-align: right;\n",
       "    }\n",
       "</style>\n",
       "<table border=\"1\" class=\"dataframe\">\n",
       "  <thead>\n",
       "    <tr style=\"text-align: right;\">\n",
       "      <th></th>\n",
       "      <th>created_at</th>\n",
       "      <th>favorite_count</th>\n",
       "      <th>retweet_count</th>\n",
       "      <th>source</th>\n",
       "      <th>text</th>\n",
       "      <th>Sentiment</th>\n",
       "    </tr>\n",
       "  </thead>\n",
       "  <tbody>\n",
       "    <tr>\n",
       "      <th>22</th>\n",
       "      <td>2019-04-22 16:40:44+00:00</td>\n",
       "      <td>130</td>\n",
       "      <td>21</td>\n",
       "      <td>Twitter Web Client</td>\n",
       "      <td>Good. Now do Stephen Moore. https://t.co/UFgFT...</td>\n",
       "      <td>positive</td>\n",
       "    </tr>\n",
       "    <tr>\n",
       "      <th>50</th>\n",
       "      <td>2019-04-22 20:33:50+00:00</td>\n",
       "      <td>58</td>\n",
       "      <td>9</td>\n",
       "      <td>Twitter Web Client</td>\n",
       "      <td>Let’s make a promise to our children to leave ...</td>\n",
       "      <td>positive</td>\n",
       "    </tr>\n",
       "    <tr>\n",
       "      <th>27</th>\n",
       "      <td>2019-04-23 13:45:51+00:00</td>\n",
       "      <td>130</td>\n",
       "      <td>26</td>\n",
       "      <td>Twitter Web Client</td>\n",
       "      <td>We have to figure out how to govern this count...</td>\n",
       "      <td>neutral</td>\n",
       "    </tr>\n",
       "    <tr>\n",
       "      <th>41</th>\n",
       "      <td>2019-04-23 16:04:11+00:00</td>\n",
       "      <td>60</td>\n",
       "      <td>12</td>\n",
       "      <td>Twitter Web Client</td>\n",
       "      <td>Agree with @JayInslee. #ClimateChange should b...</td>\n",
       "      <td>positive</td>\n",
       "    </tr>\n",
       "    <tr>\n",
       "      <th>15</th>\n",
       "      <td>2019-04-23 22:11:00+00:00</td>\n",
       "      <td>14</td>\n",
       "      <td>6</td>\n",
       "      <td>TweetDeck</td>\n",
       "      <td>We need to fix our broken health care system. ...</td>\n",
       "      <td>negative</td>\n",
       "    </tr>\n",
       "  </tbody>\n",
       "</table>\n",
       "</div>"
      ],
      "text/plain": [
       "                  created_at  favorite_count  retweet_count  \\\n",
       "22 2019-04-22 16:40:44+00:00             130             21   \n",
       "50 2019-04-22 20:33:50+00:00              58              9   \n",
       "27 2019-04-23 13:45:51+00:00             130             26   \n",
       "41 2019-04-23 16:04:11+00:00              60             12   \n",
       "15 2019-04-23 22:11:00+00:00              14              6   \n",
       "\n",
       "                source                                               text  \\\n",
       "22  Twitter Web Client  Good. Now do Stephen Moore. https://t.co/UFgFT...   \n",
       "50  Twitter Web Client  Let’s make a promise to our children to leave ...   \n",
       "27  Twitter Web Client  We have to figure out how to govern this count...   \n",
       "41  Twitter Web Client  Agree with @JayInslee. #ClimateChange should b...   \n",
       "15           TweetDeck  We need to fix our broken health care system. ...   \n",
       "\n",
       "   Sentiment  \n",
       "22  positive  \n",
       "50  positive  \n",
       "27   neutral  \n",
       "41  positive  \n",
       "15  negative  "
      ]
     },
     "execution_count": 41,
     "metadata": {},
     "output_type": "execute_result"
    }
   ],
   "source": [
    "# Create a column to show the results of analysis\n",
    "tweets['Sentiment'] = np.array([ analize_sentiment(tweet) for tweet in tweets['text'] ])\n",
    "tweets.head(5)"
   ]
  },
  {
   "cell_type": "code",
   "execution_count": 42,
   "metadata": {},
   "outputs": [
    {
     "data": {
      "text/html": [
       "<div>\n",
       "<style scoped>\n",
       "    .dataframe tbody tr th:only-of-type {\n",
       "        vertical-align: middle;\n",
       "    }\n",
       "\n",
       "    .dataframe tbody tr th {\n",
       "        vertical-align: top;\n",
       "    }\n",
       "\n",
       "    .dataframe thead th {\n",
       "        text-align: right;\n",
       "    }\n",
       "</style>\n",
       "<table border=\"1\" class=\"dataframe\">\n",
       "  <thead>\n",
       "    <tr style=\"text-align: right;\">\n",
       "      <th></th>\n",
       "      <th>created_at</th>\n",
       "      <th>favorite_count</th>\n",
       "      <th>retweet_count</th>\n",
       "      <th>source</th>\n",
       "      <th>text</th>\n",
       "      <th>Sentiment</th>\n",
       "    </tr>\n",
       "  </thead>\n",
       "  <tbody>\n",
       "    <tr>\n",
       "      <th>37</th>\n",
       "      <td>2019-05-06 18:40:10+00:00</td>\n",
       "      <td>165</td>\n",
       "      <td>43</td>\n",
       "      <td>Twitter Web Client</td>\n",
       "      <td>Annoy @TedCruz, chip in $1 to send me to the d...</td>\n",
       "      <td>neutral</td>\n",
       "    </tr>\n",
       "    <tr>\n",
       "      <th>21</th>\n",
       "      <td>2019-05-06 20:25:50+00:00</td>\n",
       "      <td>85</td>\n",
       "      <td>26</td>\n",
       "      <td>Twitter Media Studio</td>\n",
       "      <td>Special interests spent $17 million attacking ...</td>\n",
       "      <td>positive</td>\n",
       "    </tr>\n",
       "    <tr>\n",
       "      <th>16</th>\n",
       "      <td>2019-05-06 23:15:00+00:00</td>\n",
       "      <td>86</td>\n",
       "      <td>16</td>\n",
       "      <td>TweetDeck</td>\n",
       "      <td>I’m running to build opportunity for every Ame...</td>\n",
       "      <td>neutral</td>\n",
       "    </tr>\n",
       "    <tr>\n",
       "      <th>39</th>\n",
       "      <td>2019-05-07 01:41:15+00:00</td>\n",
       "      <td>116</td>\n",
       "      <td>9</td>\n",
       "      <td>Twitter for iPhone</td>\n",
       "      <td>Back today from a memorable first official tri...</td>\n",
       "      <td>positive</td>\n",
       "    </tr>\n",
       "    <tr>\n",
       "      <th>3</th>\n",
       "      <td>2019-05-07 04:00:40+00:00</td>\n",
       "      <td>60</td>\n",
       "      <td>14</td>\n",
       "      <td>Twitter for iPhone</td>\n",
       "      <td>We stand behind Israel's right to self defense...</td>\n",
       "      <td>negative</td>\n",
       "    </tr>\n",
       "  </tbody>\n",
       "</table>\n",
       "</div>"
      ],
      "text/plain": [
       "                  created_at  favorite_count  retweet_count  \\\n",
       "37 2019-05-06 18:40:10+00:00             165             43   \n",
       "21 2019-05-06 20:25:50+00:00              85             26   \n",
       "16 2019-05-06 23:15:00+00:00              86             16   \n",
       "39 2019-05-07 01:41:15+00:00             116              9   \n",
       "3  2019-05-07 04:00:40+00:00              60             14   \n",
       "\n",
       "                  source                                               text  \\\n",
       "37    Twitter Web Client  Annoy @TedCruz, chip in $1 to send me to the d...   \n",
       "21  Twitter Media Studio  Special interests spent $17 million attacking ...   \n",
       "16             TweetDeck  I’m running to build opportunity for every Ame...   \n",
       "39    Twitter for iPhone  Back today from a memorable first official tri...   \n",
       "3     Twitter for iPhone  We stand behind Israel's right to self defense...   \n",
       "\n",
       "   Sentiment  \n",
       "37   neutral  \n",
       "21  positive  \n",
       "16   neutral  \n",
       "39  positive  \n",
       "3   negative  "
      ]
     },
     "execution_count": 42,
     "metadata": {},
     "output_type": "execute_result"
    }
   ],
   "source": [
    "# Create a column to show the results of analysis\n",
    "tweets['Sentiment'] = np.array([ analize_sentiment(tweet) for tweet in tweets['text'] ])\n",
    "tweets.tail(5)"
   ]
  },
  {
   "cell_type": "markdown",
   "metadata": {
    "slideshow": {
     "slide_type": "subslide"
    }
   },
   "source": [
    "3.2 Analyzing the results\n",
    "What percentage of reviews are positive, neutral, and negative?"
   ]
  },
  {
   "cell_type": "code",
   "execution_count": 43,
   "metadata": {
    "slideshow": {
     "slide_type": "subslide"
    }
   },
   "outputs": [
    {
     "data": {
      "text/plain": [
       "positive    0.472727\n",
       "neutral     0.363636\n",
       "negative    0.163636\n",
       "Name: Sentiment, dtype: float64"
      ]
     },
     "execution_count": 43,
     "metadata": {},
     "output_type": "execute_result"
    }
   ],
   "source": [
    "tweets['Sentiment'].value_counts() / len(tweets)"
   ]
  },
  {
   "cell_type": "code",
   "execution_count": 44,
   "metadata": {
    "scrolled": false,
    "slideshow": {
     "slide_type": "subslide"
    }
   },
   "outputs": [
    {
     "data": {
      "image/png": "[encoded data removed]",
      "text/plain": [
       "<Figure size 432x288 with 1 Axes>"
      ]
     },
     "metadata": {},
     "output_type": "display_data"
    }
   ],
   "source": [
    "%matplotlib inline\n",
    "import pandas as pd\n",
    "import matplotlib.pyplot as plt\n",
    "\n",
    "labels = ['positive', 'neutral', 'negative']\n",
    "sizes = [54.148, 24.94, 20.91]\n",
    "\n",
    "# Create a pie chart\n",
    "plt.pie( sizes, labels=labels,shadow=False, explode=(0.1,0,0),startangle=90,autopct='%1.1f%%')\n",
    "\n",
    "# axis('equal') changes limits of x or y axis so that equal increments of x and y have the same length; a circle is circular\n",
    "plt.axis('equal')\n",
    "\n",
    "# Plot\n",
    "plt.tight_layout()\n",
    "plt.show()"
   ]
  },
  {
   "cell_type": "markdown",
   "metadata": {
    "slideshow": {
     "slide_type": "slide"
    }
   },
   "source": [
    "3.3 Load in the Sentiment IntensityAnalyzer from Vader and add compound, negative, neutral, and positive scores into the DataFrame."
   ]
  },
  {
   "cell_type": "code",
   "execution_count": 45,
   "metadata": {
    "scrolled": true,
    "slideshow": {
     "slide_type": "subslide"
    }
   },
   "outputs": [
    {
     "name": "stderr",
     "output_type": "stream",
     "text": [
      "[nltk_data] Downloading package vader_lexicon to\n",
      "[nltk_data]     C:\\Users\\YooSarina\\AppData\\Roaming\\nltk_data...\n"
     ]
    },
    {
     "data": {
      "text/plain": [
       "True"
      ]
     },
     "execution_count": 45,
     "metadata": {},
     "output_type": "execute_result"
    }
   ],
   "source": [
    "import nltk\n",
    "nltk.download('vader_lexicon') "
   ]
  },
  {
   "cell_type": "code",
   "execution_count": 46,
   "metadata": {
    "slideshow": {
     "slide_type": "subslide"
    }
   },
   "outputs": [],
   "source": [
    "from nltk.sentiment.vader import SentimentIntensityAnalyzer\n",
    "sia = SentimentIntensityAnalyzer()\n",
    "#VADER to calculate sentiment see if you can correctly predict the hand-tagged sentiment.\n",
    "compound= []\n",
    "neg = []\n",
    "neu = []\n",
    "pos = []\n",
    "for tweet in tweets['text']:\n",
    "    sent = sia.polarity_scores(tweet)\n",
    "    compound.append(sent['compound'])\n",
    "    neg.append(sent['neg'])\n",
    "    neu.append(sent['neu'])\n",
    "    pos.append(sent['pos'])"
   ]
  },
  {
   "cell_type": "code",
   "execution_count": 47,
   "metadata": {
    "slideshow": {
     "slide_type": "subslide"
    }
   },
   "outputs": [],
   "source": [
    "tweets['compound'] = compound\n",
    "tweets['neg'] = neg\n",
    "tweets['neu'] = neu\n",
    "tweets['pos'] = pos"
   ]
  },
  {
   "cell_type": "markdown",
   "metadata": {},
   "source": [
    "compound = score/math.sqrt((score**2)+15)"
   ]
  },
  {
   "cell_type": "code",
   "execution_count": 48,
   "metadata": {
    "slideshow": {
     "slide_type": "subslide"
    }
   },
   "outputs": [
    {
     "data": {
      "text/html": [
       "<div>\n",
       "<style scoped>\n",
       "    .dataframe tbody tr th:only-of-type {\n",
       "        vertical-align: middle;\n",
       "    }\n",
       "\n",
       "    .dataframe tbody tr th {\n",
       "        vertical-align: top;\n",
       "    }\n",
       "\n",
       "    .dataframe thead th {\n",
       "        text-align: right;\n",
       "    }\n",
       "</style>\n",
       "<table border=\"1\" class=\"dataframe\">\n",
       "  <thead>\n",
       "    <tr style=\"text-align: right;\">\n",
       "      <th></th>\n",
       "      <th>created_at</th>\n",
       "      <th>favorite_count</th>\n",
       "      <th>retweet_count</th>\n",
       "      <th>source</th>\n",
       "      <th>text</th>\n",
       "      <th>Sentiment</th>\n",
       "      <th>compound</th>\n",
       "      <th>neg</th>\n",
       "      <th>neu</th>\n",
       "      <th>pos</th>\n",
       "    </tr>\n",
       "  </thead>\n",
       "  <tbody>\n",
       "    <tr>\n",
       "      <th>22</th>\n",
       "      <td>2019-04-22 16:40:44+00:00</td>\n",
       "      <td>130</td>\n",
       "      <td>21</td>\n",
       "      <td>Twitter Web Client</td>\n",
       "      <td>Good. Now do Stephen Moore. https://t.co/UFgFT...</td>\n",
       "      <td>positive</td>\n",
       "      <td>0.4404</td>\n",
       "      <td>0.000</td>\n",
       "      <td>0.633</td>\n",
       "      <td>0.367</td>\n",
       "    </tr>\n",
       "    <tr>\n",
       "      <th>50</th>\n",
       "      <td>2019-04-22 20:33:50+00:00</td>\n",
       "      <td>58</td>\n",
       "      <td>9</td>\n",
       "      <td>Twitter Web Client</td>\n",
       "      <td>Let’s make a promise to our children to leave ...</td>\n",
       "      <td>positive</td>\n",
       "      <td>0.6124</td>\n",
       "      <td>0.073</td>\n",
       "      <td>0.610</td>\n",
       "      <td>0.317</td>\n",
       "    </tr>\n",
       "    <tr>\n",
       "      <th>27</th>\n",
       "      <td>2019-04-23 13:45:51+00:00</td>\n",
       "      <td>130</td>\n",
       "      <td>26</td>\n",
       "      <td>Twitter Web Client</td>\n",
       "      <td>We have to figure out how to govern this count...</td>\n",
       "      <td>neutral</td>\n",
       "      <td>0.6369</td>\n",
       "      <td>0.000</td>\n",
       "      <td>0.819</td>\n",
       "      <td>0.181</td>\n",
       "    </tr>\n",
       "    <tr>\n",
       "      <th>41</th>\n",
       "      <td>2019-04-23 16:04:11+00:00</td>\n",
       "      <td>60</td>\n",
       "      <td>12</td>\n",
       "      <td>Twitter Web Client</td>\n",
       "      <td>Agree with @JayInslee. #ClimateChange should b...</td>\n",
       "      <td>positive</td>\n",
       "      <td>0.6249</td>\n",
       "      <td>0.000</td>\n",
       "      <td>0.769</td>\n",
       "      <td>0.231</td>\n",
       "    </tr>\n",
       "    <tr>\n",
       "      <th>15</th>\n",
       "      <td>2019-04-23 22:11:00+00:00</td>\n",
       "      <td>14</td>\n",
       "      <td>6</td>\n",
       "      <td>TweetDeck</td>\n",
       "      <td>We need to fix our broken health care system. ...</td>\n",
       "      <td>negative</td>\n",
       "      <td>0.3400</td>\n",
       "      <td>0.121</td>\n",
       "      <td>0.664</td>\n",
       "      <td>0.215</td>\n",
       "    </tr>\n",
       "  </tbody>\n",
       "</table>\n",
       "</div>"
      ],
      "text/plain": [
       "                  created_at  favorite_count  retweet_count  \\\n",
       "22 2019-04-22 16:40:44+00:00             130             21   \n",
       "50 2019-04-22 20:33:50+00:00              58              9   \n",
       "27 2019-04-23 13:45:51+00:00             130             26   \n",
       "41 2019-04-23 16:04:11+00:00              60             12   \n",
       "15 2019-04-23 22:11:00+00:00              14              6   \n",
       "\n",
       "                source                                               text  \\\n",
       "22  Twitter Web Client  Good. Now do Stephen Moore. https://t.co/UFgFT...   \n",
       "50  Twitter Web Client  Let’s make a promise to our children to leave ...   \n",
       "27  Twitter Web Client  We have to figure out how to govern this count...   \n",
       "41  Twitter Web Client  Agree with @JayInslee. #ClimateChange should b...   \n",
       "15           TweetDeck  We need to fix our broken health care system. ...   \n",
       "\n",
       "   Sentiment  compound    neg    neu    pos  \n",
       "22  positive    0.4404  0.000  0.633  0.367  \n",
       "50  positive    0.6124  0.073  0.610  0.317  \n",
       "27   neutral    0.6369  0.000  0.819  0.181  \n",
       "41  positive    0.6249  0.000  0.769  0.231  \n",
       "15  negative    0.3400  0.121  0.664  0.215  "
      ]
     },
     "execution_count": 48,
     "metadata": {},
     "output_type": "execute_result"
    }
   ],
   "source": [
    "tweets.head()"
   ]
  },
  {
   "cell_type": "markdown",
   "metadata": {
    "slideshow": {
     "slide_type": "slide"
    }
   },
   "source": [
    "3.4 Store tweet sentiment in y to use as labels and create an appropriate feature matrix, X"
   ]
  },
  {
   "cell_type": "code",
   "execution_count": 49,
   "metadata": {
    "slideshow": {
     "slide_type": "subslide"
    }
   },
   "outputs": [],
   "source": [
    "y = tweets['Sentiment']\n",
    "X = tweets[['compound', 'neg', 'neu', 'pos']]"
   ]
  },
  {
   "cell_type": "markdown",
   "metadata": {
    "slideshow": {
     "slide_type": "subslide"
    }
   },
   "source": [
    "3.5 Fit a model of your choice to predict tweets sentient and cross-validate."
   ]
  },
  {
   "cell_type": "code",
   "execution_count": 50,
   "metadata": {
    "slideshow": {
     "slide_type": "subslide"
    }
   },
   "outputs": [],
   "source": [
    "#ramdomeforest: create bunch of decision tree and got the one the most accurate(majority vote)\n",
    "from sklearn.ensemble import RandomForestClassifier\n",
    "rf = RandomForestClassifier()\n",
    "from sklearn.model_selection import cross_val_score, train_test_split"
   ]
  },
  {
   "cell_type": "code",
   "execution_count": 51,
   "metadata": {
    "scrolled": true,
    "slideshow": {
     "slide_type": "subslide"
    }
   },
   "outputs": [
    {
     "name": "stderr",
     "output_type": "stream",
     "text": [
      "C:\\Users\\YooSarina\\Anaconda3\\lib\\site-packages\\sklearn\\ensemble\\forest.py:246: FutureWarning: The default value of n_estimators will change from 10 in version 0.20 to 100 in 0.22.\n",
      "  \"10 in version 0.20 to 100 in 0.22.\", FutureWarning)\n"
     ]
    },
    {
     "data": {
      "text/plain": [
       "RandomForestClassifier(bootstrap=True, class_weight=None, criterion='gini',\n",
       "            max_depth=None, max_features='auto', max_leaf_nodes=None,\n",
       "            min_impurity_decrease=0.0, min_impurity_split=None,\n",
       "            min_samples_leaf=1, min_samples_split=2,\n",
       "            min_weight_fraction_leaf=0.0, n_estimators=10, n_jobs=None,\n",
       "            oob_score=False, random_state=None, verbose=0,\n",
       "            warm_start=False)"
      ]
     },
     "execution_count": 51,
     "metadata": {},
     "output_type": "execute_result"
    }
   ],
   "source": [
    "rf.fit(X,y)"
   ]
  },
  {
   "cell_type": "code",
   "execution_count": 52,
   "metadata": {
    "scrolled": false,
    "slideshow": {
     "slide_type": "subslide"
    }
   },
   "outputs": [
    {
     "name": "stdout",
     "output_type": "stream",
     "text": [
      "Cross Validation of Random Forest is  :0.448916 \n"
     ]
    },
    {
     "name": "stderr",
     "output_type": "stream",
     "text": [
      "C:\\Users\\YooSarina\\Anaconda3\\lib\\site-packages\\sklearn\\model_selection\\_split.py:2053: FutureWarning: You should specify a value for 'cv' instead of relying on the default value. The default value will change from 3 to 5 in version 0.22.\n",
      "  warnings.warn(CV_WARNING, FutureWarning)\n"
     ]
    }
   ],
   "source": [
    "#estimate how accurately a predictive model will perform in practice\n",
    "score=cross_val_score(rf, X, y)\n",
    "print('Cross Validation of Random Forest is  :{:3f} '.format(score.mean()))"
   ]
  },
  {
   "cell_type": "code",
   "execution_count": 53,
   "metadata": {
    "scrolled": true,
    "slideshow": {
     "slide_type": "subslide"
    }
   },
   "outputs": [
    {
     "data": {
      "text/plain": [
       "RandomForestClassifier(bootstrap=True, class_weight=None, criterion='gini',\n",
       "            max_depth=None, max_features='auto', max_leaf_nodes=None,\n",
       "            min_impurity_decrease=0.0, min_impurity_split=None,\n",
       "            min_samples_leaf=1, min_samples_split=2,\n",
       "            min_weight_fraction_leaf=0.0, n_estimators=10, n_jobs=None,\n",
       "            oob_score=False, random_state=None, verbose=0,\n",
       "            warm_start=False)"
      ]
     },
     "execution_count": 53,
     "metadata": {},
     "output_type": "execute_result"
    }
   ],
   "source": [
    "X_train, X_test, y_train, y_test = train_test_split(X, y, test_size=0.30,random_state=14)\n",
    "rf.fit(X_train,y_train)"
   ]
  },
  {
   "cell_type": "markdown",
   "metadata": {
    "slideshow": {
     "slide_type": "subslide"
    }
   },
   "source": [
    "3.6 Display the confusion matrix.\n",
    "What reviews are difficult to identify?"
   ]
  },
  {
   "cell_type": "code",
   "execution_count": 54,
   "metadata": {
    "code_folding": [
     1
    ],
    "scrolled": true,
    "slideshow": {
     "slide_type": "slide"
    }
   },
   "outputs": [
    {
     "data": {
      "text/plain": [
       "Text(0.5, 1.0, 'Confusion Matrix')"
      ]
     },
     "execution_count": 54,
     "metadata": {},
     "output_type": "execute_result"
    },
    {
     "data": {
      "image/png": "[encoded data removed]",
      "text/plain": [
       "<Figure size 432x432 with 1 Axes>"
      ]
     },
     "metadata": {
      "needs_background": "light"
     },
     "output_type": "display_data"
    }
   ],
   "source": [
    "conmat = np.array(confusion_matrix(y_test, rf.predict(X_test)))\n",
    "confusion = pd.DataFrame(conmat, index=['negative', 'neutral', 'positive'],\\\n",
    "                     columns=['Pred neg', 'Pred neutral', 'Pred pos'])\n",
    "\n",
    "plt.figure(figsize = (6,6))\n",
    "heat = sns.heatmap(confusion, annot=True, annot_kws={\"size\": 20},cmap='Blues',fmt='g', cbar=False)\n",
    "plt.xticks(rotation=0, fontsize=14)\n",
    "plt.yticks(fontsize=14)\n",
    "plt.title(\"Confusion Matrix\", fontsize=20)"
   ]
  },
  {
   "cell_type": "markdown",
   "metadata": {
    "slideshow": {
     "slide_type": "subslide"
    }
   },
   "source": [
    "3.7 Print the classification report."
   ]
  },
  {
   "cell_type": "code",
   "execution_count": 55,
   "metadata": {
    "scrolled": true,
    "slideshow": {
     "slide_type": "subslide"
    }
   },
   "outputs": [
    {
     "name": "stdout",
     "output_type": "stream",
     "text": [
      "              precision    recall  f1-score   support\n",
      "\n",
      "    negative       0.00      0.00      0.00         5\n",
      "     neutral       0.30      0.50      0.37         6\n",
      "    positive       0.50      0.50      0.50         6\n",
      "\n",
      "   micro avg       0.35      0.35      0.35        17\n",
      "   macro avg       0.27      0.33      0.29        17\n",
      "weighted avg       0.28      0.35      0.31        17\n",
      "\n"
     ]
    }
   ],
   "source": [
    "print(classification_report(y_test, rf.predict(X_test)))"
   ]
  },
  {
   "cell_type": "markdown",
   "metadata": {
    "slideshow": {
     "slide_type": "fragment"
    }
   },
   "source": [
    "\n",
    "\n"
   ]
  },
  {
   "cell_type": "code",
   "execution_count": null,
   "metadata": {},
   "outputs": [],
   "source": []
  }
 ],
 "metadata": {
  "kernelspec": {
   "display_name": "Python 3",
   "language": "python",
   "name": "python3"
  },
  "language_info": {
   "codemirror_mode": {
    "name": "ipython",
    "version": 3
   },
   "file_extension": ".py",
   "mimetype": "text/x-python",
   "name": "python",
   "nbconvert_exporter": "python",
   "pygments_lexer": "ipython3",
   "version": "3.7.3"
  }
 },
 "nbformat": 4,
 "nbformat_minor": 2
}
